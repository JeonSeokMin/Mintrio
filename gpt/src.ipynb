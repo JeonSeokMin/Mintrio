{
 "cells": [
  {
   "cell_type": "markdown",
   "metadata": {},
   "source": [
    "## TEST_DATA"
   ]
  },
  {
   "cell_type": "code",
   "execution_count": 1,
   "metadata": {},
   "outputs": [],
   "source": [
    "import pandas as pd"
   ]
  },
  {
   "cell_type": "code",
   "execution_count": 2,
   "metadata": {},
   "outputs": [],
   "source": [
    "review_3p = pd.read_excel(\"./test_data/(전달용) 쿠팡_리뷰 20240223.xlsx\", sheet_name=\"(RAW) 쿠팡_3P\")\n",
    "review_rocket = pd.read_excel(\"./test_data/(전달용) 쿠팡_리뷰 20240223.xlsx\", sheet_name=\"(RAW) 쿠팡_로켓\")"
   ]
  },
  {
   "cell_type": "code",
   "execution_count": 3,
   "metadata": {},
   "outputs": [],
   "source": [
    "review_3p_comments = review_3p[\"상품평 코멘트\"].dropna().tolist()\n",
    "review_rocket_comments = review_rocket[\"리뷰내용\"].dropna().tolist()"
   ]
  },
  {
   "cell_type": "code",
   "execution_count": 4,
   "metadata": {},
   "outputs": [],
   "source": [
    "combined_reviews = review_3p_comments + review_rocket_comments"
   ]
  },
  {
   "cell_type": "code",
   "execution_count": 35,
   "metadata": {},
   "outputs": [],
   "source": [
    "test_data = combined_reviews[:300]"
   ]
  },
  {
   "cell_type": "markdown",
   "metadata": {},
   "source": [
    "## Import"
   ]
  },
  {
   "cell_type": "code",
   "execution_count": 34,
   "metadata": {},
   "outputs": [],
   "source": [
    "# LLM 객체 생성\n",
    "from langchain.chat_models import ChatOpenAI\n",
    "\n",
    "from langchain.prompts import ChatPromptTemplate\n",
    "from langchain.chains import LLMChain"
   ]
  },
  {
   "cell_type": "markdown",
   "metadata": {},
   "source": [
    "## LLM_1 : Aspect Based Sentiment Analysis"
   ]
  },
  {
   "cell_type": "code",
   "execution_count": 7,
   "metadata": {},
   "outputs": [
    {
     "data": {
      "text/plain": [
       "True"
      ]
     },
     "execution_count": 7,
     "metadata": {},
     "output_type": "execute_result"
    }
   ],
   "source": [
    "# 환경변수\n",
    "from dotenv import load_dotenv\n",
    "\n",
    "load_dotenv()"
   ]
  },
  {
   "cell_type": "code",
   "execution_count": 19,
   "metadata": {},
   "outputs": [],
   "source": [
    "# LLM_1\n",
    "ABSA_llm = ChatOpenAI(\n",
    "    temperature=0.7,  # 창의성\n",
    "    model_name=\"gpt-4o\",  # 모델명\n",
    ")"
   ]
  },
  {
   "cell_type": "code",
   "execution_count": 32,
   "metadata": {},
   "outputs": [],
   "source": [
    "ABSA_template = \"\"\"\n",
    "    Define the sentiment elements as follows:\n",
    "    \n",
    "    − The 'aspect term' refers to a specific feature, attribute, or aspect of an item, product, or service that a user might comment on. If implicit, the aspect term can be 'null'.\n",
    "    − The 'opinion term' reflects the sentiment or attitude toward a specific aspect. It can also be 'null' for implicit opinions.\n",
    "    − The 'aspect category' is the general category to which the aspect belongs. Examples may include 'quality', 'pricing', 'availability', 'appearance', 'functionality', 'service', 'general', and other suitable categories as applicable across diverse domains.\n",
    "    − The 'sentiment polarity' expresses whether the sentiment is 'positive', 'negative', or 'neutral'.\n",
    "\n",
    "    Based on the provided definitions, identify and organize all sentiment elements from the following text by grouping them by sentiment polarity. \n",
    "    \n",
    "    Please answer in Korean.\n",
    "\n",
    "    Text to analyze:\n",
    "    {text}\n",
    "\"\"\""
   ]
  },
  {
   "cell_type": "code",
   "execution_count": 45,
   "metadata": {},
   "outputs": [
    {
     "name": "stdout",
     "output_type": "stream",
     "text": [
      "### 긍정적 감정 요소\n",
      "\n",
      "1. **측면 용어**: 관절 건강, 섭취, 배송, 캐나다 직수입, 가격, 하루 1정\n",
      "   - **의견 용어**: 간편, 좋아요, 마음에 들어요, 합리적, 좋습니다\n",
      "   - **측면 범주**: 품질, 가격, 편리성\n",
      "   - **감정 극성**: 긍정적\n",
      "\n",
      "2. **측면 용어**: MSM, 관절보호, 캐나다 수입품, 120알, 4개월분\n",
      "   - **의견 용어**: 믿고 먹을 수 있네요, 넉넉히 두고두고 먹을 수 있어 좋았습니다\n",
      "   - **측면 범주**: 품질, 신뢰성\n",
      "   - **감정 극성**: 긍정적\n",
      "\n",
      "3. **측면 용어**: 관절, 손목, 무릎, 남편\n",
      "   - **의견 용어**: 최고예요, 편해요, 괜찮아졌다고해요\n",
      "   - **측면 범주**: 효과, 건강\n",
      "   - **감정 극성**: 긍정적\n",
      "\n",
      "4. **측면 용어**: 관절, 식물성, 계단\n",
      "   - **의견 용어**: 많이 좋아졌네요\n",
      "   - **측면 범주**: 효과, 건강\n",
      "   - **감정 극성**: 긍정적\n",
      "\n",
      "5. **측면 용어**: 성분, 관절 통증 감소\n",
      "   - **의견 용어**: 좋을것같더라구요, 기대되요\n",
      "   - **측면 범주**: 효과, 기대\n",
      "   - **감정 극성**: 긍정적\n",
      "\n",
      "6. **측면 용어**: MSM, 관절, 용량\n",
      "   - **의견 용어**: 좋다고 하시네용, 만족스럽네요\n",
      "   - **측면 범주**: 효과, 만족도\n",
      "   - **감정 극성**: 긍정적\n",
      "\n",
      "7. **측면 용어**: 관절, 연골, 통증 감소\n",
      "   - **의견 용어**: 효과를 볼수 있다고 하여, 기대합니다\n",
      "   - **측면 범주**: 효과, 기대\n",
      "   - **감정 극성**: 긍정적\n",
      "\n",
      "8. **측면 용어**: 관절, 연골, 통증 감소\n",
      "   - **의견 용어**: 좋다고 하시네요, 건강하셨으면 좋겠어용\n",
      "   - **측면 범주**: 효과, 건강\n",
      "   - **감정 극성**: 긍정적\n",
      "\n",
      "9. **측면 용어**: 관절, 연골, 통증 감소\n",
      "   - **의견 용어**: 좋다고 하시네요, 건강하셨으면 좋겠어용\n",
      "   - **측면 범주**: 효과, 건강\n",
      "   - **감정 극성**: 긍정적\n",
      "\n",
      "10. **측면 용어**: 관절, 연골, 통증 감소\n",
      "    - **의견 용어**: 좋다고 하시네요, 건강하셨으면 좋겠어용\n",
      "    - **측면 범주**: 효과, 건강\n",
      "    - **감정 극성**: 긍정적\n",
      "\n",
      "### 부정적 감정 요소\n",
      "\n",
      "1. **측면 용어**: 알약 크기\n",
      "   - **의견 용어**: 목구멍 찢어지겠어요\n",
      "   - **측면 범주**: 편리성\n",
      "   - **감정 극성**: 부정적\n",
      "\n",
      "2. **측면 용어**: 약 크기\n",
      "   - **의견 용어**: 목에 걸려요\n",
      "   - **측면 범주**: 편리성\n",
      "   - **감정 극성**: 부정적\n",
      "\n",
      "3. **측면 용어**: 약 크기\n",
      "   - **의견 용어**: 짤라먹어야하니 좀불편합니다\n",
      "   - **측면 범주**: 편리성\n",
      "   - **감정 극성**: 부정적\n",
      "\n",
      "### 중립적 감정 요소\n",
      "\n",
      "1. **측면 용어**: 약 효과\n",
      "   - **의견 용어**: 잘 모르겠어요\n",
      "   - **측면 범주**: 효과\n",
      "   - **감정 극성**: 중립적\n",
      "\n",
      "2. **측면 용어**: 약 효과\n",
      "   - **의견 용어**: 효과가 있었응 좋겠네요\n",
      "   - **측면 범주**: 기대\n",
      "   - **감정 극성**: 중립적\n",
      "\n",
      "3. **측면 용어**: 약 효과\n",
      "   - **의견 용어**: 먹고 있는데 중이라 아직 효과는.모름\n",
      "   - **측면 범주**: 효과\n",
      "   - **감정 극성**: 중립적\n"
     ]
    }
   ],
   "source": [
    "# 프롬프트 생성\n",
    "ABSA_prompt = ChatPromptTemplate.from_template(ABSA_template)\n",
    "\n",
    "# 체인 생성 (프롬프트와 LLM 연결)\n",
    "ABSA_chain = LLMChain(llm=ABSA_llm, prompt=ABSA_prompt)\n",
    "\n",
    "# 체인을 통해 combined_reviews 텍스트로 실행\n",
    "ABSA_result = ABSA_chain.run({\"text\": test_data})\n",
    "\n",
    "print(ABSA_result)"
   ]
  },
  {
   "cell_type": "markdown",
   "metadata": {},
   "source": [
    "## Chat LLM"
   ]
  },
  {
   "cell_type": "code",
   "execution_count": 46,
   "metadata": {},
   "outputs": [],
   "source": [
    "# LLM 객체 생성\n",
    "from langchain.chat_models import ChatOpenAI\n",
    "\n",
    "from langchain.prompts import ChatPromptTemplate\n",
    "from langchain.chains import LLMChain"
   ]
  },
  {
   "cell_type": "code",
   "execution_count": 47,
   "metadata": {},
   "outputs": [],
   "source": [
    "# LLM_2\n",
    "chat_llm = ChatOpenAI(\n",
    "    temperature=0.1,  # 창의성\n",
    "    model_name=\"gpt-4o\",  # 모델명\n",
    ")"
   ]
  },
  {
   "cell_type": "code",
   "execution_count": 59,
   "metadata": {},
   "outputs": [],
   "source": [
    "chat_template = \"\"\"\n",
    "    You are an assistant for question-answering tasks.\n",
    "    Use the following pieces of 'information' to answer the question.\n",
    "\n",
    "    Information:\n",
    "    {ABSA_text}\n",
    "\n",
    "    Question:\n",
    "    {chat_question}\n",
    "\n",
    "    Please answer in Korean.\n",
    "\"\"\""
   ]
  },
  {
   "cell_type": "code",
   "execution_count": 60,
   "metadata": {},
   "outputs": [],
   "source": [
    "# 프롬프트 생성\n",
    "chat_prompt = ChatPromptTemplate.from_template(chat_template)\n",
    "\n",
    "# 체인 생성 (프롬프트와 LLM 연결)\n",
    "chat_chain = LLMChain(llm=chat_llm, prompt=chat_prompt)"
   ]
  },
  {
   "cell_type": "code",
   "execution_count": 62,
   "metadata": {},
   "outputs": [
    {
     "name": "stdout",
     "output_type": "stream",
     "text": [
      "긍정적인 측면에서 보면, 관절 건강과 관련된 제품은 품질, 가격, 편리성, 신뢰성, 효과, 건강, 기대, 만족도 등 다양한 측면에서 긍정적인 평가를 받고 있습니다. 특히, 관절 통증 감소와 관련된 효과가 좋다는 의견이 많고, 하루 1정으로 간편하게 섭취할 수 있다는 점이 장점으로 언급되고 있습니다. 또한, 캐나다 직수입 제품이라는 점에서 신뢰성을 더하고 있습니다.\n",
      "\n",
      "반면, 부정적인 측면에서는 알약의 크기가 크다는 점이 불편하다는 의견이 있습니다. 목에 걸리거나 목구멍이 찢어질 것 같다는 불편함이 제기되고 있습니다.\n",
      "\n",
      "중립적인 측면에서는 약의 효과에 대해 아직 잘 모르겠다는 의견이 있으며, 효과가 있기를 기대하는 마음이 표현되고 있습니다.\n",
      "\n",
      "종합적으로 보면, 제품의 효과와 편리성, 신뢰성 측면에서 긍정적인 평가가 많지만, 알약 크기와 관련된 불편함이 일부 존재합니다.\n",
      "대화를 종료합니다.\n"
     ]
    }
   ],
   "source": [
    "# 유저와의 대화 부분\n",
    "while True:\n",
    "\n",
    "    # 유저의 질문 받기\n",
    "    user_question = input(\"사용자의 질문을 입력하세요 (종료하려면 'exit' 입력): \")\n",
    "\n",
    "    if user_question.lower() == 'exit':\n",
    "        print(\"대화를 종료합니다.\")\n",
    "        break\n",
    "\n",
    "    # 체인을 통해 combined_reviews 텍스트로 실행\n",
    "    chat_result = chat_chain.run({\"ABSA_text\": ABSA_result, \"chat_question\": user_question})\n",
    "\n",
    "    print(chat_result)"
   ]
  },
  {
   "cell_type": "markdown",
   "metadata": {},
   "source": [
    "## Marketing LLM"
   ]
  },
  {
   "cell_type": "code",
   "execution_count": null,
   "metadata": {},
   "outputs": [],
   "source": []
  }
 ],
 "metadata": {
  "kernelspec": {
   "display_name": "mintrio",
   "language": "python",
   "name": "python3"
  },
  "language_info": {
   "codemirror_mode": {
    "name": "ipython",
    "version": 3
   },
   "file_extension": ".py",
   "mimetype": "text/x-python",
   "name": "python",
   "nbconvert_exporter": "python",
   "pygments_lexer": "ipython3",
   "version": "3.10.15"
  }
 },
 "nbformat": 4,
 "nbformat_minor": 2
}
