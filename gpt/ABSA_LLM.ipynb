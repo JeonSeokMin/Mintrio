{
 "cells": [
  {
   "cell_type": "markdown",
   "metadata": {},
   "source": [
    "TEST_DATA"
   ]
  },
  {
   "cell_type": "markdown",
   "metadata": {},
   "source": [
    "### ABSA_LLM"
   ]
  },
  {
   "cell_type": "code",
   "execution_count": 1,
   "metadata": {},
   "outputs": [],
   "source": [
    "# LLM 객체 생성\n",
    "from langchain.chat_models import ChatOpenAI\n",
    "\n",
    "from langchain.prompts import ChatPromptTemplate\n",
    "from langchain.chains import LLMChain"
   ]
  },
  {
   "cell_type": "code",
   "execution_count": 2,
   "metadata": {},
   "outputs": [
    {
     "data": {
      "text/plain": [
       "True"
      ]
     },
     "execution_count": 2,
     "metadata": {},
     "output_type": "execute_result"
    }
   ],
   "source": [
    "# 환경변수\n",
    "from dotenv import load_dotenv\n",
    "\n",
    "load_dotenv()"
   ]
  },
  {
   "cell_type": "code",
   "execution_count": 6,
   "metadata": {},
   "outputs": [
    {
     "name": "stderr",
     "output_type": "stream",
     "text": [
      "/var/folders/m1/bqb2x_hs2p3c9xfm8sbxkgcr0000gn/T/ipykernel_26243/2616711705.py:2: LangChainDeprecationWarning: The class `ChatOpenAI` was deprecated in LangChain 0.0.10 and will be removed in 1.0. An updated version of the class exists in the :class:`~langchain-openai package and should be used instead. To use it run `pip install -U :class:`~langchain-openai` and import as `from :class:`~langchain_openai import ChatOpenAI``.\n",
      "  ABSA_llm = ChatOpenAI(\n"
     ]
    }
   ],
   "source": [
    "# LLM_1\n",
    "ABSA_llm = ChatOpenAI(\n",
    "    temperature=0.7,  # 창의성\n",
    "    model_name=\"gpt-4o\",  # 모델명\n",
    ")"
   ]
  },
  {
   "cell_type": "code",
   "execution_count": 7,
   "metadata": {},
   "outputs": [],
   "source": [
    "ABSA_template = \"\"\"\n",
    "    Define the sentiment elements as follows:\n",
    "    \n",
    "    − The 'aspect term' refers to a specific feature, attribute, or aspect of an item, product, or service that a user might comment on. If implicit, the aspect term can be 'null'.\n",
    "    − The 'opinion term' reflects the sentiment or attitude toward a specific aspect. It can also be 'null' for implicit opinions.\n",
    "    − The 'aspect category' is the general category to which the aspect belongs. Examples may include 'quality', 'pricing', 'availability', 'appearance', 'functionality', 'service', 'general', and other suitable categories as applicable across diverse domains.\n",
    "    − The 'sentiment polarity' expresses whether the sentiment is 'positive', 'negative', or 'neutral'.\n",
    "\n",
    "    Based on the provided definitions, identify and organize all sentiment elements from the following text by grouping them by sentiment polarity. \n",
    "    \n",
    "    Please answer in Korean.\n",
    "\n",
    "    Text to analyze:\n",
    "    {text}\n",
    "\"\"\""
   ]
  },
  {
   "cell_type": "code",
   "execution_count": null,
   "metadata": {},
   "outputs": [],
   "source": [
    "# 프롬프트 생성\n",
    "ABSA_prompt = ChatPromptTemplate.from_template(ABSA_template)\n",
    "\n",
    "# 체인 생성 (프롬프트와 LLM 연결)\n",
    "ABSA_chain = LLMChain(llm=ABSA_llm, prompt=ABSA_prompt)\n",
    "\n",
    "# 체인을 통해 combined_reviews 텍스트로 실행\n",
    "ABSA_result = ABSA_chain.run({\"text\": test_data})\n",
    "\n",
    "print(ABSA_result)"
   ]
  },
  {
   "cell_type": "code",
   "execution_count": 12,
   "metadata": {},
   "outputs": [],
   "source": [
    "ABSA_result = \"\"\"\n",
    "\n",
    "### 긍정적 요소\n",
    "1. **측면 용어**: 가격, 품질, 배송  \n",
    "   - **의견 용어**: 합리적, 만족스럽다, 좋다, 빠르다  \n",
    "   - **측면 범주**: 가격, 품질, 편리성  \n",
    "   - **감정 극성**: 긍정적  \n",
    "\n",
    "2. **측면 용어**: 효과, 사용  \n",
    "   - **의견 용어**: 기대 이상, 좋았다, 신뢰할 수 있다  \n",
    "   - **측면 범주**: 효과, 신뢰성  \n",
    "   - **감정 극성**: 긍정적  \n",
    "\n",
    "3. **측면 용어**: 성능, 효능, 신뢰성  \n",
    "   - **의견 용어**: 탁월하다, 믿음이 간다, 매우 만족한다  \n",
    "   - **측면 범주**: 성능, 신뢰성  \n",
    "   - **감정 극성**: 긍정적  \n",
    "\n",
    "### 중립적 요소\n",
    "1. **측면 용어**: 효과, 기대  \n",
    "   - **의견 용어**: 기대하고 있다, 아직 효과는 모르겠다  \n",
    "   - **측면 범주**: 효과, 기대  \n",
    "   - **감정 극성**: 중립적  \n",
    "\n",
    "2. **측면 용어**: 편리성, 사용  \n",
    "   - **의견 용어**: 나쁘지는 않다, 아직 결정할 수 없다  \n",
    "   - **측면 범주**: 편리성  \n",
    "   - **감정 극성**: 중립적  \n",
    "\n",
    "3. **측면 용어**: 품질, 기능  \n",
    "   - **의견 용어**: 무난하다, 보통이다, 기대만큼이다  \n",
    "   - **측면 범주**: 품질, 기능  \n",
    "   - **감정 극성**: 중립적  \n",
    "\n",
    "### 부정적 요소\n",
    "1. **측면 용어**: 효과, 기대  \n",
    "   - **의견 용어**: 기대만큼 효과가 없다, 효과가 미미하다  \n",
    "   - **측면 범주**: 효과  \n",
    "   - **감정 극성**: 부정적  \n",
    "\n",
    "2. **측면 용어**: 가격, 품질  \n",
    "   - **의견 용어**: 가격 대비 만족스럽지 않다, 별다른 효과가 없다  \n",
    "   - **측면 범주**: 가격, 효과  \n",
    "   - **감정 극성**: 부정적  \n",
    "\n",
    "3. **측면 용어**: 사용, 편리성  \n",
    "   - **의견 용어**: 오히려 불편하다, 사용하기 어렵다  \n",
    "   - **측면 범주**: 편리성  \n",
    "   - **감정 극성**: 부정적  \n",
    "\n",
    "\"\"\"\n"
   ]
  },
  {
   "cell_type": "markdown",
   "metadata": {},
   "source": [
    "### CHAT_LLM"
   ]
  },
  {
   "cell_type": "code",
   "execution_count": 13,
   "metadata": {},
   "outputs": [],
   "source": [
    "# LLM 객체 생성\n",
    "from langchain.chat_models import ChatOpenAI\n",
    "\n",
    "from langchain.prompts import ChatPromptTemplate\n",
    "from langchain.chains import LLMChain"
   ]
  },
  {
   "cell_type": "code",
   "execution_count": 14,
   "metadata": {},
   "outputs": [],
   "source": [
    "# LLM_2\n",
    "chat_llm = ChatOpenAI(\n",
    "    temperature=0.1,  # 창의성\n",
    "    model_name=\"gpt-4o\",  # 모델명\n",
    ")"
   ]
  },
  {
   "cell_type": "code",
   "execution_count": 32,
   "metadata": {},
   "outputs": [],
   "source": [
    "chat_template = \"\"\"\n",
    "You are an assistant for question-answering tasks.\n",
    "The conversation has the following history:\n",
    "\n",
    "{history}\n",
    "\n",
    "Question:\n",
    "{input}\n",
    "\n",
    "Please answer in Korean.\n",
    "\"\"\""
   ]
  },
  {
   "cell_type": "code",
   "execution_count": 33,
   "metadata": {},
   "outputs": [],
   "source": [
    "# 프롬프트 생성\n",
    "chat_prompt = ChatPromptTemplate.from_template(chat_template)"
   ]
  },
  {
   "cell_type": "code",
   "execution_count": 34,
   "metadata": {},
   "outputs": [],
   "source": [
    "from langchain.memory import ConversationBufferMemory #대화 기록을 \"메모리에 저장\" 하여 이후 대화에서 이전 대화의 내용을 참조할수 있게 함\n",
    "\n",
    "memory = ConversationBufferMemory()\n",
    "memory.save_context({\"input\": \"Initial Information\"}, {\"output\": ABSA_result})"
   ]
  },
  {
   "cell_type": "code",
   "execution_count": 35,
   "metadata": {},
   "outputs": [],
   "source": [
    "from langchain.chains import ConversationChain  # 대화 기록을 바탕으로 연속적인 대화를 실행하는 체인\n",
    "\n",
    "# 대화 체인 생성\n",
    "conversation = ConversationChain(\n",
    "    llm=chat_llm,\n",
    "    memory=memory,\n",
    "    prompt=chat_prompt,\n",
    ")"
   ]
  },
  {
   "cell_type": "code",
   "execution_count": 36,
   "metadata": {},
   "outputs": [
    {
     "name": "stderr",
     "output_type": "stream",
     "text": [
      "/var/folders/m1/bqb2x_hs2p3c9xfm8sbxkgcr0000gn/T/ipykernel_26243/3536555042.py:9: LangChainDeprecationWarning: The method `Chain.__call__` was deprecated in langchain 0.1.0 and will be removed in 1.0. Use :meth:`~invoke` instead.\n",
      "  response = conversation({\"input\": user_question})\n"
     ]
    },
    {
     "name": "stdout",
     "output_type": "stream",
     "text": [
      "{'input': '그래서 뭐가 더 제일 좋은거야?', 'history': 'Human: Initial Information\\nAI: \\n\\n### 긍정적 요소\\n1. **측면 용어**: 가격, 품질, 배송  \\n   - **의견 용어**: 합리적, 만족스럽다, 좋다, 빠르다  \\n   - **측면 범주**: 가격, 품질, 편리성  \\n   - **감정 극성**: 긍정적  \\n\\n2. **측면 용어**: 효과, 사용  \\n   - **의견 용어**: 기대 이상, 좋았다, 신뢰할 수 있다  \\n   - **측면 범주**: 효과, 신뢰성  \\n   - **감정 극성**: 긍정적  \\n\\n3. **측면 용어**: 성능, 효능, 신뢰성  \\n   - **의견 용어**: 탁월하다, 믿음이 간다, 매우 만족한다  \\n   - **측면 범주**: 성능, 신뢰성  \\n   - **감정 극성**: 긍정적  \\n\\n### 중립적 요소\\n1. **측면 용어**: 효과, 기대  \\n   - **의견 용어**: 기대하고 있다, 아직 효과는 모르겠다  \\n   - **측면 범주**: 효과, 기대  \\n   - **감정 극성**: 중립적  \\n\\n2. **측면 용어**: 편리성, 사용  \\n   - **의견 용어**: 나쁘지는 않다, 아직 결정할 수 없다  \\n   - **측면 범주**: 편리성  \\n   - **감정 극성**: 중립적  \\n\\n3. **측면 용어**: 품질, 기능  \\n   - **의견 용어**: 무난하다, 보통이다, 기대만큼이다  \\n   - **측면 범주**: 품질, 기능  \\n   - **감정 극성**: 중립적  \\n\\n### 부정적 요소\\n1. **측면 용어**: 효과, 기대  \\n   - **의견 용어**: 기대만큼 효과가 없다, 효과가 미미하다  \\n   - **측면 범주**: 효과  \\n   - **감정 극성**: 부정적  \\n\\n2. **측면 용어**: 가격, 품질  \\n   - **의견 용어**: 가격 대비 만족스럽지 않다, 별다른 효과가 없다  \\n   - **측면 범주**: 가격, 효과  \\n   - **감정 극성**: 부정적  \\n\\n3. **측면 용어**: 사용, 편리성  \\n   - **의견 용어**: 오히려 불편하다, 사용하기 어렵다  \\n   - **측면 범주**: 편리성  \\n   - **감정 극성**: 부정적  \\n\\n', 'response': '위의 정보를 바탕으로 가장 긍정적인 요소를 찾자면, \"성능, 효능, 신뢰성\" 측면에서 \"탁월하다, 믿음이 간다, 매우 만족한다\"는 의견이 가장 긍정적으로 평가되고 있습니다. 따라서 제품의 성능과 신뢰성이 가장 좋은 것으로 보입니다.'}\n",
      "대화를 종료합니다.\n"
     ]
    }
   ],
   "source": [
    "# 대화 시작\n",
    "while True:\n",
    "    user_question = input(\"사용자의 질문을 입력하세요 (종료하려면 'exit' 입력): \")\n",
    "    if user_question.lower() == 'exit':\n",
    "        print(\"대화를 종료합니다.\")\n",
    "        break\n",
    "    \n",
    "    # 유저의 질문을 대화에 전달\n",
    "    response = conversation({\"input\": user_question})\n",
    "    print(response['response'])"
   ]
  },
  {
   "cell_type": "markdown",
   "metadata": {},
   "source": [
    "### Marketing"
   ]
  },
  {
   "cell_type": "markdown",
   "metadata": {},
   "source": []
  }
 ],
 "metadata": {
  "kernelspec": {
   "display_name": "mintrio",
   "language": "python",
   "name": "python3"
  },
  "language_info": {
   "codemirror_mode": {
    "name": "ipython",
    "version": 3
   },
   "file_extension": ".py",
   "mimetype": "text/x-python",
   "name": "python",
   "nbconvert_exporter": "python",
   "pygments_lexer": "ipython3",
   "version": "3.10.15"
  }
 },
 "nbformat": 4,
 "nbformat_minor": 2
}
