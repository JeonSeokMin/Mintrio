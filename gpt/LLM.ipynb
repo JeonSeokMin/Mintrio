{
 "cells": [
  {
   "cell_type": "markdown",
   "metadata": {},
   "source": [
    "TEST_DATA"
   ]
  },
  {
   "cell_type": "markdown",
   "metadata": {},
   "source": [
    "### ABSA_LLM"
   ]
  },
  {
   "cell_type": "code",
   "execution_count": null,
   "metadata": {},
   "outputs": [],
   "source": [
    "# LLM 객체 생성\n",
    "from langchain.chat_models import ChatOpenAI\n",
    "\n",
    "from langchain.prompts import ChatPromptTemplate\n",
    "from langchain.chains import LLMChain\n",
    "\n",
    "# 환경변수\n",
    "from dotenv import load_dotenv\n",
    "\n",
    "load_dotenv()\n",
    "\n",
    "# LLM_1\n",
    "ABSA_llm = ChatOpenAI(\n",
    "    temperature=0.7,  # 창의성\n",
    "    model_name=\"gpt-4o\",  # 모델명\n",
    ")\n",
    "\n",
    "ABSA_template = \"\"\"\n",
    "    Define the sentiment elements as follows:\n",
    "    \n",
    "    − The 'aspect term' refers to a specific feature, attribute, or aspect of an item, product, or service that a user might comment on. If implicit, the aspect term can be 'null'.\n",
    "    − The 'opinion term' reflects the sentiment or attitude toward a specific aspect. It can also be 'null' for implicit opinions.\n",
    "    − The 'aspect category' is the general category to which the aspect belongs. Examples may include 'quality', 'pricing', 'availability', 'appearance', 'functionality', 'service', 'general', and other suitable categories as applicable across diverse domains.\n",
    "    − The 'sentiment polarity' expresses whether the sentiment is 'positive', 'negative', or 'neutral'.\n",
    "\n",
    "    Based on the provided definitions, identify and organize all sentiment elements from the following text by grouping them by sentiment polarity. \n",
    "    \n",
    "    Please answer in Korean.\n",
    "\n",
    "    Text to analyze:\n",
    "    {text}\n",
    "\"\"\"\n",
    "\n",
    "# 프롬프트 생성\n",
    "ABSA_prompt = ChatPromptTemplate.from_template(ABSA_template)\n",
    "\n",
    "# 체인 생성 (프롬프트와 LLM 연결)\n",
    "ABSA_chain = LLMChain(llm=ABSA_llm, prompt=ABSA_prompt)\n",
    "\n",
    "# 체인을 통해 combined_reviews 텍스트로 실행\n",
    "ABSA_result = ABSA_chain.run({\"text\": test_data})\n",
    "\n",
    "print(ABSA_result)"
   ]
  },
  {
   "cell_type": "markdown",
   "metadata": {},
   "source": [
    "### CHAT_LLM"
   ]
  },
  {
   "cell_type": "code",
   "execution_count": null,
   "metadata": {},
   "outputs": [],
   "source": [
    "# LLM 객체 생성\n",
    "from langchain.chat_models import ChatOpenAI\n",
    "\n",
    "from langchain.prompts import ChatPromptTemplate\n",
    "from langchain.chains import LLMChain\n",
    "\n",
    "# LLM_2\n",
    "chat_llm = ChatOpenAI(\n",
    "    temperature=0.1,  # 창의성\n",
    "    model_name=\"gpt-4o\",  # 모델명\n",
    ")\n",
    "\n",
    "chat_template = \"\"\"\n",
    "    You are an assistant for question-answering tasks.\n",
    "    Use the following pieces of 'information' to answer the question.\n",
    "\n",
    "    Information:\n",
    "    {ABSA_text}\n",
    "\n",
    "    Question:\n",
    "    {chat_question}\n",
    "\n",
    "    Please answer in Korean.\n",
    "\"\"\"\n",
    "\n",
    "# 프롬프트 생성\n",
    "chat_prompt = ChatPromptTemplate.from_template(chat_template)\n",
    "\n",
    "# 체인 생성 (프롬프트와 LLM 연결)\n",
    "chat_chain = LLMChain(llm=chat_llm, prompt=chat_prompt)\n",
    "\n",
    "# 유저와의 대화 부분\n",
    "while True:\n",
    "\n",
    "    # 유저의 질문 받기\n",
    "    user_question = input(\"사용자의 질문을 입력하세요 (종료하려면 'exit' 입력): \")\n",
    "\n",
    "    if user_question.lower() == 'exit':\n",
    "        print(\"대화를 종료합니다.\")\n",
    "        break\n",
    "\n",
    "    # 체인을 통해 combined_reviews 텍스트로 실행\n",
    "    chat_result = chat_chain.run({\"ABSA_text\": ABSA_result, \"chat_question\": user_question})\n",
    "\n",
    "    print(chat_result)"
   ]
  }
 ],
 "metadata": {
  "kernelspec": {
   "display_name": "mintrio",
   "language": "python",
   "name": "python3"
  },
  "language_info": {
   "name": "python",
   "version": "3.10.15"
  }
 },
 "nbformat": 4,
 "nbformat_minor": 2
}
